{
 "cells": [
  {
   "cell_type": "markdown",
   "id": "81929946",
   "metadata": {},
   "source": [
    "# Weather Prediction"
   ]
  },
  {
   "cell_type": "code",
   "execution_count": null,
   "id": "f3ce63c1",
   "metadata": {},
   "outputs": [],
   "source": [
    "import pandas as pd \n",
    "import numpy as np \n",
    "\n",
    "\n",
    "from sklearn.linear_model import LinearRegression\n",
    "from sklearn.model_selection import train_test_split\n",
    "from sklearn.preprocessing import LabelEncoder\n",
    "\n",
    "\n",
    "import matplotlib.pyplot as plt \n",
    "import seaborn as sns\n",
    "%matplotlib inline\n",
    "\n",
    "\n",
    "import scipy.stats as st\n",
    "import sklearn.metrics as sm"
   ]
  },
  {
   "cell_type": "code",
   "execution_count": null,
   "id": "07fdc4c7",
   "metadata": {
    "scrolled": true
   },
   "outputs": [],
   "source": [
    "data = pd.read_csv('weather1.csv')\n",
    "data"
   ]
  },
  {
   "cell_type": "code",
   "execution_count": null,
   "id": "b4362b9e",
   "metadata": {
    "scrolled": true
   },
   "outputs": [],
   "source": [
    "print(data.shape)\n",
    "print(data.dtypes)"
   ]
  },
  {
   "cell_type": "code",
   "execution_count": null,
   "id": "085de35c",
   "metadata": {},
   "outputs": [],
   "source": [
    "data.isnull().sum()"
   ]
  },
  {
   "cell_type": "code",
   "execution_count": null,
   "id": "7268adc3",
   "metadata": {},
   "outputs": [],
   "source": [
    "print('Unique values in DewPointHF:\\n',data.DewPointHighF.unique())\n",
    "print('\\nUnique values in DewPointAvgF:\\n',data.DewPointAvgF.unique())\n",
    "print('\\nUnique values in DewPointLowF:\\n',data.DewPointLowF.unique())\n",
    "\n",
    "print('\\nUnique values in HumidityHighPercent:\\n',data.HumidityHighPercent.unique())\n",
    "print('\\nUnique values in HumidityAvgPercent:\\n',data.HumidityAvgPercent.unique())\n",
    "print('\\nUnique values in HumidityLowPercent:\\n',data.HumidityLowPercent.unique())\n",
    "\n",
    "print('\\nUnique values in SeaLevelPressureHighInches:\\n',data.SeaLevelPressureHighInches.unique())\n",
    "print('\\nUnique values in SeaLevelPressureAvgInches:\\n',data.SeaLevelPressureAvgInches.unique())\n",
    "print('\\nUnique values in SeaLevelPressureLowInches:\\n',data.SeaLevelPressureLowInches.unique())\n",
    "\n",
    "print('\\nUnique values in VisibilityHighMiles:\\n',data.VisibilityHighMiles.unique())\n",
    "print('\\nUnique values in VisibilityAvgMiles:\\n',data.VisibilityAvgMiles.unique())\n",
    "print('\\nUnique values in VisibilityLowMiles:\\n',data.VisibilityLowMiles.unique())\n",
    "\n",
    "print('\\nUnique values in WindHighMPH:\\n',data.WindHighMPH.unique())\n",
    "print('\\nUnique values in WindAvgMPH:\\n',data.WindAvgMPH.unique())\n",
    "print('\\nUnique values in WindGustMPH:\\n',data.WindGustMPH.unique())\n",
    "\n",
    "print('\\nUnique values in PrecipitationSumInches:\\n',data.PrecipitationSumInches.unique())\n",
    "\n",
    "print('\\nUnique values in Events:\\n',data.Events.unique())"
   ]
  },
  {
   "cell_type": "code",
   "execution_count": null,
   "id": "d5824d6d",
   "metadata": {},
   "outputs": [],
   "source": [
    "data = data.replace(to_replace =\"-\", value =\"0\")\n",
    "data = data.replace(to_replace = ' ', value = 'Nan')\n",
    "data['PrecipitationSumInches'] = data[['PrecipitationSumInches']].replace('T', '0')"
   ]
  },
  {
   "cell_type": "code",
   "execution_count": null,
   "id": "7c5ba6eb",
   "metadata": {},
   "outputs": [],
   "source": [
    "data['Date'] = pd.to_datetime(data.Date)\n",
    "\n",
    "data['DewPointHighF'] = data['DewPointHighF'].astype(float)\n",
    "data['DewPointAvgF'] = data['DewPointAvgF'].astype(float)\n",
    "data['DewPointLowF'] = data['DewPointLowF'].astype(float)\n",
    "data['HumidityHighPercent'] = data['HumidityHighPercent'].astype(float)\n",
    "data['HumidityAvgPercent'] = data['HumidityAvgPercent'].astype(float)\n",
    "data['HumidityLowPercent'] = data['HumidityLowPercent'].astype(float)\n",
    "data['SeaLevelPressureHighInches'] = data['SeaLevelPressureHighInches'].astype(float)\n",
    "data['SeaLevelPressureAvgInches'] = data['SeaLevelPressureAvgInches'].astype(float)\n",
    "data['SeaLevelPressureLowInches'] = data['SeaLevelPressureLowInches'].astype(float)\n",
    "data['VisibilityHighMiles'] = data['VisibilityHighMiles'].astype(float)\n",
    "data['VisibilityAvgMiles'] = data['VisibilityAvgMiles'].astype(float)\n",
    "data['VisibilityLowMiles'] = data['VisibilityLowMiles'].astype(float)\n",
    "data['WindHighMPH'] = data['WindHighMPH'].astype(float)\n",
    "data['WindAvgMPH'] = data['WindAvgMPH'].astype(float)\n",
    "data['WindGustMPH'] = data['WindGustMPH'].astype(float)\n",
    "data['PrecipitationSumInches'] = data['PrecipitationSumInches'].astype(float)"
   ]
  },
  {
   "cell_type": "code",
   "execution_count": null,
   "id": "c13f750e",
   "metadata": {},
   "outputs": [],
   "source": [
    "label = LabelEncoder()\n",
    "data['Events'] = label.fit_transform(data['Events'].astype('str'))\n",
    "\n",
    "print(data['Events'].head())\n",
    "print(data.Events.unique())"
   ]
  },
  {
   "cell_type": "code",
   "execution_count": null,
   "id": "1778d396",
   "metadata": {},
   "outputs": [],
   "source": [
    "data.dtypes"
   ]
  },
  {
   "cell_type": "code",
   "execution_count": null,
   "id": "cdf2cb48",
   "metadata": {},
   "outputs": [],
   "source": [
    "data['Year'] = data['Date'].dt.year\n",
    "data['Month'] = data['Date'].dt.month\n",
    "data['Day'] = data['Date'].dt.day"
   ]
  },
  {
   "cell_type": "code",
   "execution_count": null,
   "id": "df525d7c",
   "metadata": {},
   "outputs": [],
   "source": [
    "data = data.drop('Date' ,axis = 1)\n",
    "data.head()"
   ]
  },
  {
   "cell_type": "code",
   "execution_count": null,
   "id": "0e7d1e44",
   "metadata": {},
   "outputs": [],
   "source": [
    "corrMatrix = data.corr()\n",
    "plt.figure(figsize=(12, 12))\n",
    "sns.heatmap(corrMatrix, annot=True,)"
   ]
  },
  {
   "cell_type": "code",
   "execution_count": null,
   "id": "1193bcb5",
   "metadata": {},
   "outputs": [],
   "source": [
    "x = data.drop('TempHighF' , axis = 1).values\n",
    "y = data['TempHighF'].values"
   ]
  },
  {
   "cell_type": "code",
   "execution_count": null,
   "id": "3a0938d9",
   "metadata": {},
   "outputs": [],
   "source": [
    "X_train , X_test , Y_train , Y_test = train_test_split(x,y, test_size = 0.3 , random_state = 0)"
   ]
  },
  {
   "cell_type": "code",
   "execution_count": null,
   "id": "5246c14a",
   "metadata": {},
   "outputs": [],
   "source": [
    "lnr = LinearRegression()\n",
    "\n",
    "lnr.fit(X_train,Y_train)"
   ]
  },
  {
   "cell_type": "code",
   "execution_count": null,
   "id": "37386263",
   "metadata": {},
   "outputs": [],
   "source": [
    "y_pred = lnr.predict(X_test)"
   ]
  },
  {
   "cell_type": "code",
   "execution_count": null,
   "id": "c93242e2",
   "metadata": {},
   "outputs": [],
   "source": [
    "df = pd.DataFrame({'Actual': Y_test, 'Predicted': y_pred})\n",
    "\n",
    "df.head()"
   ]
  },
  {
   "cell_type": "code",
   "execution_count": null,
   "id": "1b9c54e8",
   "metadata": {},
   "outputs": [],
   "source": [
    "plt.style.use('dark_background')\n",
    "plt.figure(figsize=(10, 10))\n",
    "plt.scatter(Y_test, y_pred, c = 'red')\n",
    "plt.xlabel('Actual values')\n",
    "plt.ylabel('Predicted Values')"
   ]
  },
  {
   "cell_type": "code",
   "execution_count": null,
   "id": "03404164",
   "metadata": {
    "scrolled": true
   },
   "outputs": [],
   "source": [
    "print(\"Accuracy of the model =\",lnr.score(X_train, Y_train))\n",
    "print(\"Mean absolute error =\", round(sm.mean_absolute_error(Y_test, y_pred),2)) \n",
    "print(\"Mean squared error =\", round(sm.mean_squared_error(Y_test, y_pred), 2)) \n",
    "print(\"Median absolute error =\", round(sm.median_absolute_error(Y_test, y_pred), 2)) \n",
    "print(\"Explain variance score =\", round(sm.explained_variance_score(Y_test, y_pred), 2)) \n",
    "print(\"R2 score =\", round(sm.r2_score(Y_test, y_pred), 2))"
   ]
  },
  {
   "cell_type": "code",
   "execution_count": null,
   "id": "368f7104",
   "metadata": {},
   "outputs": [],
   "source": []
  }
 ],
 "metadata": {
  "kernelspec": {
   "display_name": "Python 3",
   "language": "python",
   "name": "python3"
  },
  "language_info": {
   "codemirror_mode": {
    "name": "ipython",
    "version": 3
   },
   "file_extension": ".py",
   "mimetype": "text/x-python",
   "name": "python",
   "nbconvert_exporter": "python",
   "pygments_lexer": "ipython3",
   "version": "3.8.8"
  }
 },
 "nbformat": 4,
 "nbformat_minor": 5
}
